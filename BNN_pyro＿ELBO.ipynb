{
 "cells": [
  {
   "cell_type": "code",
   "execution_count": 1,
   "metadata": {},
   "outputs": [
    {
     "name": "stdout",
     "output_type": "stream",
     "text": [
      "0.5.1\n"
     ]
    }
   ],
   "source": [
    "import matplotlib.pyplot as plt\n",
    "import torch\n",
    "import pyro\n",
    "print(pyro.__version__)\n",
    "from pyro.distributions import Normal, Delta\n",
    "from pyro.infer.autoguide.guides import AutoDiagonalNormal\n",
    "from pyro.infer import SVI, Trace_ELBO\n",
    "from pyro.optim import Adam\n",
    "from pyro.infer.predictive import Predictive\n",
    "%matplotlib inline"
   ]
  },
  {
   "cell_type": "code",
   "execution_count": 2,
   "metadata": {},
   "outputs": [],
   "source": [
    "class BNN(object):\n",
    "    def __init__(self, input_size, hidden_size, output_size, w_sigma, y_sigma):\n",
    "        self.input_size = input_size\n",
    "        self.hidden_size = hidden_size\n",
    "        self.output_size = output_size\n",
    "        self.w_sigma = w_sigma\n",
    "        self.y_sigma = y_sigma\n",
    "        \n",
    "    def model(self, x_data,y_data):\n",
    "        #パラメータの生成\n",
    "        with pyro.plate(\"w1_plate_dim2\",self.hidden_size):#分布の独立性の仮定\n",
    "            with pyro.plate(\"w1_plate_dim1\",self.input_size):\n",
    "                w1 = pyro.sample(\"w1\",Normal(0,self.w_sigma))#[2,4]\n",
    "\n",
    "        with pyro.plate(\"w2_plate_dim2\",self.output_size):\n",
    "            with pyro.plate(\"w2_plate_dim1\",self.hidden_size):\n",
    "                w2 = pyro.sample(\"w2\",Normal(0,self.w_sigma))#[4,1]\n",
    "\n",
    "        f = lambda x: torch.mm(torch.tanh(torch.mm(x,w1)),w2)\n",
    "\n",
    "        #観測データの生成\n",
    "        with pyro.plate(\"map\",len(x_data)):\n",
    "            prediction_mean = f(x_data).squeeze()\n",
    "            pyro.sample(\"obs\",Normal(prediction_mean,self.y_sigma), obs =y_data)\n",
    "            return prediction_mean\n",
    "        \n",
    "        \n",
    "    def VI (self, x_data,y_data,num_samples=10,num_iterations=300):\n",
    "       #細かく近似分布を指定したければguide関数を作成すべき\n",
    "        self.guide = AutoDiagonalNormal(self.model)#完全分解近似\n",
    "        optim = Adam({\"lr\" : 1e-3})\n",
    "        loss = Trace_ELBO()\n",
    "        svi = SVI(self.model, self.guide, optim=optim,loss=loss )\n",
    "\n",
    "        #train\n",
    "        pyro.clear_param_store()\n",
    "        for j in range(num_iterations):\n",
    "            loss = svi.step(x_data,y_data)\n",
    "            if(j%(num_iterations//10)==0):\n",
    "                print(\"[iteration %05d] loss: %.4f\" % (j + 1, loss / len(x_data)))\n",
    "        \n",
    "        #num_samplesだけ事後分布からサンプルを生成\n",
    "        dict={}\n",
    "        for i in range(num_samples):\n",
    "            sample =self.guide() #sampling\n",
    "            for name,value in sample.items():\n",
    "                if not dict.keys().__contains__(name):#シーケンスが特定の値を含んでいるかどうかを知る\n",
    "                    dict[name] = value.unsqueeze(0)#次元を増やす\n",
    "                else:\n",
    "                    dict[name] = torch.cat([dict[name],value.unsqueeze(0)],dim=0)\n",
    "        \n",
    "        self.posterior_samples = dict\n",
    "\n",
    "    def predict(self, x_pred):\n",
    "        def wrapped_model(x_data,y_data):\n",
    "            pyro.sample(\"prediciton\",Delta(self.model(x_data,y_data)))\n",
    "        \n",
    "        predictive = Predictive(wrapped_model, self.posterior_samples)#こいつが戦犯\n",
    "        samples = predictive.get_samples(x_pred,None)\n",
    "        \n",
    "        return samples[\"prediciton\"], samples[\"obs\"]\n",
    "\n",
    "\n"
   ]
  },
  {
   "cell_type": "code",
   "execution_count": null,
   "metadata": {},
   "outputs": [
    {
     "name": "stdout",
     "output_type": "stream",
     "text": [
      "[iteration 00001] loss: 87.5126\n",
      "[iteration 00031] loss: 39.9784\n",
      "[iteration 00061] loss: 179.4839\n",
      "[iteration 00091] loss: 689.6825\n",
      "[iteration 00121] loss: 239.5717\n",
      "[iteration 00151] loss: 46.5119\n",
      "[iteration 00181] loss: 143.1468\n",
      "[iteration 00211] loss: 257.8677\n",
      "[iteration 00241] loss: 25.4441\n"
     ]
    }
   ],
   "source": [
    "\n",
    "H_0 = 2  # 入力次元\n",
    "H_1 = 4  # 中間層のユニット数\n",
    "D = 1  # 出力次元\n",
    "# 訓練データセット\n",
    "data = torch.tensor([[-4.5, -0.22],\n",
    "                     [-4.4, -0.10],\n",
    "                     [-4.0, 0.00],\n",
    "                     [-2.9, -0.11],\n",
    "                     [-2.7, -0.33],\n",
    "                     [-1.5, -0.20],\n",
    "                     [-1.3, -0.08],\n",
    "                     [-0.8, -0.21],\n",
    "                     [0.1, -0.34],\n",
    "                     [1.5, 0.10],\n",
    "                     [2.0, 0.11],\n",
    "                     [2.1, 0.14],\n",
    "                     [2.6, 0.21],\n",
    "                     [3.5, 0.23],\n",
    "                     [3.6, 0.38]])\n",
    "x_data = data[:, 0].reshape(-1, 1)\n",
    "x_data = torch.cat([x_data, torch.ones_like(x_data)], dim=1)  # biasごと入力に含ませる\n",
    "y_data = data[:, 1]\n",
    "#print(x_data.size())#[15,2]\n",
    "#print(y_data.size())#[15]\n",
    "# ハイパーパラメータ\n",
    "w_sigma = torch.tensor(0.75)\n",
    "y_sigma = torch.tensor(0.09)\n",
    "# モデル\n",
    "bnn = BNN(H_0, H_1, D, w_sigma, y_sigma)\n",
    "# 推論\n",
    "bnn.VI(x_data, y_data)\n",
    "# 予測\n",
    "x = torch.linspace(-6.0, 6.0, 100).reshape(-1, 1)\n",
    "x_new = torch.cat([x, torch.ones_like(x)], dim=1)  # 予測入力点\n",
    "print(x_new.size())\n",
    "mu_samples, y_samples = bnn.predict(x_new)\n",
    "\n",
    "# 結果の図示\n",
    "fig, ax = plt.subplots(nrows=1, ncols=2, figsize=(12, 6))\n",
    "for sample in mu_samples:\n",
    "    ax[0].plot(x.flatten().numpy(), sample.detach().numpy(), alpha=0.05, color='g')\n",
    "ax[0].scatter(x_data[:, 0].flatten().numpy(), y_data.numpy(), color=\"black\")\n",
    "ax[0].set(xlabel=\"$x$\", ylabel=\"$y$\", xlim=(-6.0, 6.0), ylim=(-0.6, 0.6))\n",
    "\n",
    "for sample in y_samples:\n",
    "    ax[1].plot(x.flatten().numpy(), sample.detach().numpy(), alpha=0.005, color='g')\n",
    "ax[1].scatter(x_data[:, 0].flatten().numpy(), y_data.numpy(), color=\"black\")\n",
    "ax[1].set(xlabel=\"$x$\", ylabel=\"$y$\", xlim=(-6.0, 6.0), ylim=(-0.6, 0.6))\n",
    "plt.show()\n",
    "\n",
    "\n"
   ]
  },
  {
   "cell_type": "code",
   "execution_count": null,
   "metadata": {},
   "outputs": [],
   "source": []
  },
  {
   "cell_type": "code",
   "execution_count": null,
   "metadata": {},
   "outputs": [],
   "source": []
  },
  {
   "cell_type": "code",
   "execution_count": null,
   "metadata": {},
   "outputs": [],
   "source": []
  },
  {
   "cell_type": "code",
   "execution_count": null,
   "metadata": {},
   "outputs": [],
   "source": []
  }
 ],
 "metadata": {
  "kernelspec": {
   "display_name": "Python 3",
   "language": "python",
   "name": "python3"
  },
  "language_info": {
   "codemirror_mode": {
    "name": "ipython",
    "version": 3
   },
   "file_extension": ".py",
   "mimetype": "text/x-python",
   "name": "python",
   "nbconvert_exporter": "python",
   "pygments_lexer": "ipython3",
   "version": "3.7.4"
  }
 },
 "nbformat": 4,
 "nbformat_minor": 2
}
