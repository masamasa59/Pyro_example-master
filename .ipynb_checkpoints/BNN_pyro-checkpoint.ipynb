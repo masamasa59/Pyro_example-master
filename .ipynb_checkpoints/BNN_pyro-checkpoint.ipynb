{
 "cells": [
  {
   "cell_type": "code",
   "execution_count": 6,
   "metadata": {},
   "outputs": [
    {
     "name": "stdout",
     "output_type": "stream",
     "text": [
      "0.5.1\n"
     ]
    }
   ],
   "source": [
    "import matplotlib.pyplot as plt\n",
    "import torch\n",
    "import pyro\n",
    "print(pyro.__version__)\n",
    "from pyro.distributions import Normal, Delta\n",
    "from pyro.infer.autoguide.guides import AutoDiagonalNormal\n",
    "from pyro.infer import SVI, Trace_ELBO\n",
    "from pyro.optim import Adam\n",
    "from pyro.infer.predictive import Predictive\n",
    "%matplotlib inline"
   ]
  },
  {
   "cell_type": "code",
   "execution_count": 9,
   "metadata": {},
   "outputs": [],
   "source": [
    "class BNN(object):\n",
    "    def __init__(self, input_size, hidden_size, output_size, w_sigma, y_sigma):\n",
    "        self.input_size = input_size\n",
    "        self.hidden_size = hidden_size\n",
    "        self.output_size = output_size\n",
    "        self.w_sigma = w_sigma\n",
    "        self.y_sigma = y_sigma\n",
    "        \n",
    "    def model(self, x_data,y_data):\n",
    "        #パラメータの生成\n",
    "        with pyro.plate(\"w1_plate_dim2\",self.hidden_size):#分布の独立性の仮定\n",
    "            with pyro.plate(\"w1_plate_dim1\",self.input_size):\n",
    "                w1 = pyro.sample(\"w1\",Normal(0,self.w_sigma))#[2,4]\n",
    "\n",
    "        with pyro.plate(\"w2_plate_dim2\",self.output_size):\n",
    "            with pyro.plate(\"w2_plate_dim1\",self.hidden_size):\n",
    "                w2 = pyro.sample(\"w2\",Normal(0,self.w_sigma))#[4,1]\n",
    "\n",
    "        f = lambda x: torch.mm(torch.tanh(torch.mm(x,w1)),w2)\n",
    "\n",
    "        #観測データの生成\n",
    "        with pyro.plate(\"map\",len(x_data)):\n",
    "            prediction_mean = f(x_data).squeeze()\n",
    "            pyro.sample(\"obs\",Normal(prediction_mean,self.y_sigma), obs =y_data)\n",
    "            return prediction_mean\n",
    "        \n",
    "        \n",
    "    def VI (self, x_data,y_data,num_samples=10,num_iterations=300):\n",
    "       #細かく近似分布を指定したければguide関数を作成すべき\n",
    "        self.guide = AutoDiagonalNormal(self.model)#完全分解近似\n",
    "        optim = Adam({\"lr\" : 1e-3})\n",
    "        loss = Trace_ELBO()\n",
    "        svi = SVI(self.model, self.guide, optim=optim,loss=loss )\n",
    "\n",
    "        #train\n",
    "        pyro.clear_param_store()\n",
    "        for j in range(num_iterations):\n",
    "            loss = svi.step(x_data,y_data)\n",
    "            if(j%(num_iterations//10)==0):\n",
    "                print(\"[iteration %05d] loss: %.4f\" % (j + 1, loss / len(x_data)))\n",
    "        \n",
    "        #num_samplesだけ事後分布からサンプルを生成\n",
    "        dict={}\n",
    "        for i in range(num_samples):\n",
    "            sample =self.guide() #sampling\n",
    "            for name,value in sample.items():\n",
    "                if not dict.keys().__contains__(name):#シーケンスが特定の値を含んでいるかどうかを知る\n",
    "                    dict[name] = value.unsqueeze(0)#次元を増やす\n",
    "                else:\n",
    "                    dict[name] = torch.cat([dict[name],value.unsqueeze(0)],dim=0)\n",
    "        \n",
    "        self.posterior_samples = dict\n",
    "\n",
    "    def predict(self, x_pred):\n",
    "        def wrapped_model(x_data,y_data):\n",
    "            pyro.sample(\"prediciton\",Delta(self.model(x_data,y_data)))\n",
    "        \n",
    "        predictive = Predictive(self.model(x_data,y_data), self.posterior_samples)#こいつが戦犯\n",
    "        samples = predictive.get_samples(x_pred,None)\n",
    "        \n",
    "        return samples[\"prediciton\"], samples[\"obs\"]\n",
    "\n",
    "\n"
   ]
  },
  {
   "cell_type": "code",
   "execution_count": 10,
   "metadata": {},
   "outputs": [
    {
     "name": "stdout",
     "output_type": "stream",
     "text": [
      "[iteration 00001] loss: 195.0821\n",
      "[iteration 00031] loss: 138.3335\n",
      "[iteration 00061] loss: 27.3274\n",
      "[iteration 00091] loss: 223.2807\n",
      "[iteration 00121] loss: 167.0126\n",
      "[iteration 00151] loss: 461.4123\n",
      "[iteration 00181] loss: 10.7882\n",
      "[iteration 00211] loss: 220.5039\n",
      "[iteration 00241] loss: 956.9386\n",
      "[iteration 00271] loss: 90.4240\n",
      "torch.Size([100, 2])\n"
     ]
    },
    {
     "ename": "TypeError",
     "evalue": "'Tensor' object is not callable",
     "output_type": "error",
     "traceback": [
      "\u001b[0;31m---------------------------------------------------------------------------\u001b[0m",
      "\u001b[0;31mTypeError\u001b[0m                                 Traceback (most recent call last)",
      "\u001b[0;32m<ipython-input-10-fa93da315545>\u001b[0m in \u001b[0;36m<module>\u001b[0;34m\u001b[0m\n\u001b[1;32m     35\u001b[0m \u001b[0mx_new\u001b[0m \u001b[0;34m=\u001b[0m \u001b[0mtorch\u001b[0m\u001b[0;34m.\u001b[0m\u001b[0mcat\u001b[0m\u001b[0;34m(\u001b[0m\u001b[0;34m[\u001b[0m\u001b[0mx\u001b[0m\u001b[0;34m,\u001b[0m \u001b[0mtorch\u001b[0m\u001b[0;34m.\u001b[0m\u001b[0mones_like\u001b[0m\u001b[0;34m(\u001b[0m\u001b[0mx\u001b[0m\u001b[0;34m)\u001b[0m\u001b[0;34m]\u001b[0m\u001b[0;34m,\u001b[0m \u001b[0mdim\u001b[0m\u001b[0;34m=\u001b[0m\u001b[0;36m1\u001b[0m\u001b[0;34m)\u001b[0m  \u001b[0;31m# 予測入力点\u001b[0m\u001b[0;34m\u001b[0m\u001b[0;34m\u001b[0m\u001b[0m\n\u001b[1;32m     36\u001b[0m \u001b[0mprint\u001b[0m\u001b[0;34m(\u001b[0m\u001b[0mx_new\u001b[0m\u001b[0;34m.\u001b[0m\u001b[0msize\u001b[0m\u001b[0;34m(\u001b[0m\u001b[0;34m)\u001b[0m\u001b[0;34m)\u001b[0m\u001b[0;34m\u001b[0m\u001b[0;34m\u001b[0m\u001b[0m\n\u001b[0;32m---> 37\u001b[0;31m \u001b[0mmu_samples\u001b[0m\u001b[0;34m,\u001b[0m \u001b[0my_samples\u001b[0m \u001b[0;34m=\u001b[0m \u001b[0mbnn\u001b[0m\u001b[0;34m.\u001b[0m\u001b[0mpredict\u001b[0m\u001b[0;34m(\u001b[0m\u001b[0mx_new\u001b[0m\u001b[0;34m)\u001b[0m\u001b[0;34m\u001b[0m\u001b[0;34m\u001b[0m\u001b[0m\n\u001b[0m\u001b[1;32m     38\u001b[0m \u001b[0;34m\u001b[0m\u001b[0m\n\u001b[1;32m     39\u001b[0m \u001b[0;31m# 結果の図示\u001b[0m\u001b[0;34m\u001b[0m\u001b[0;34m\u001b[0m\u001b[0;34m\u001b[0m\u001b[0m\n",
      "\u001b[0;32m<ipython-input-9-69b38749e70d>\u001b[0m in \u001b[0;36mpredict\u001b[0;34m(self, x_pred)\u001b[0m\n\u001b[1;32m     57\u001b[0m \u001b[0;34m\u001b[0m\u001b[0m\n\u001b[1;32m     58\u001b[0m         \u001b[0mpredictive\u001b[0m \u001b[0;34m=\u001b[0m \u001b[0mPredictive\u001b[0m\u001b[0;34m(\u001b[0m\u001b[0mself\u001b[0m\u001b[0;34m.\u001b[0m\u001b[0mmodel\u001b[0m\u001b[0;34m(\u001b[0m\u001b[0mx_data\u001b[0m\u001b[0;34m,\u001b[0m\u001b[0my_data\u001b[0m\u001b[0;34m)\u001b[0m\u001b[0;34m,\u001b[0m \u001b[0mself\u001b[0m\u001b[0;34m.\u001b[0m\u001b[0mposterior_samples\u001b[0m\u001b[0;34m)\u001b[0m\u001b[0;31m#こいつが戦犯\u001b[0m\u001b[0;34m\u001b[0m\u001b[0;34m\u001b[0m\u001b[0m\n\u001b[0;32m---> 59\u001b[0;31m         \u001b[0msamples\u001b[0m \u001b[0;34m=\u001b[0m \u001b[0mpredictive\u001b[0m\u001b[0;34m.\u001b[0m\u001b[0mget_samples\u001b[0m\u001b[0;34m(\u001b[0m\u001b[0mx_pred\u001b[0m\u001b[0;34m,\u001b[0m\u001b[0;32mNone\u001b[0m\u001b[0;34m)\u001b[0m\u001b[0;34m\u001b[0m\u001b[0;34m\u001b[0m\u001b[0m\n\u001b[0m\u001b[1;32m     60\u001b[0m \u001b[0;34m\u001b[0m\u001b[0m\n\u001b[1;32m     61\u001b[0m         \u001b[0;32mreturn\u001b[0m \u001b[0msamples\u001b[0m\u001b[0;34m[\u001b[0m\u001b[0;34m\"prediciton\"\u001b[0m\u001b[0;34m]\u001b[0m\u001b[0;34m,\u001b[0m \u001b[0msamples\u001b[0m\u001b[0;34m[\u001b[0m\u001b[0;34m\"obs\"\u001b[0m\u001b[0;34m]\u001b[0m\u001b[0;34m\u001b[0m\u001b[0;34m\u001b[0m\u001b[0m\n",
      "\u001b[0;32m~/anaconda3/lib/python3.7/site-packages/pyro/infer/predictive.py\u001b[0m in \u001b[0;36mget_samples\u001b[0;34m(self, *args, **kwargs)\u001b[0m\n\u001b[1;32m    180\u001b[0m         return _predictive(self.model, posterior_samples, self.num_samples,\n\u001b[1;32m    181\u001b[0m                            \u001b[0mreturn_sites\u001b[0m\u001b[0;34m=\u001b[0m\u001b[0mself\u001b[0m\u001b[0;34m.\u001b[0m\u001b[0mreturn_sites\u001b[0m\u001b[0;34m,\u001b[0m \u001b[0mparallel\u001b[0m\u001b[0;34m=\u001b[0m\u001b[0mself\u001b[0m\u001b[0;34m.\u001b[0m\u001b[0mparallel\u001b[0m\u001b[0;34m,\u001b[0m\u001b[0;34m\u001b[0m\u001b[0;34m\u001b[0m\u001b[0m\n\u001b[0;32m--> 182\u001b[0;31m                            model_args=args, model_kwargs=kwargs)\n\u001b[0m\u001b[1;32m    183\u001b[0m \u001b[0;34m\u001b[0m\u001b[0m\n\u001b[1;32m    184\u001b[0m     \u001b[0;32mdef\u001b[0m \u001b[0mget_vectorized_trace\u001b[0m\u001b[0;34m(\u001b[0m\u001b[0mself\u001b[0m\u001b[0;34m,\u001b[0m \u001b[0;34m*\u001b[0m\u001b[0margs\u001b[0m\u001b[0;34m,\u001b[0m \u001b[0;34m**\u001b[0m\u001b[0mkwargs\u001b[0m\u001b[0;34m)\u001b[0m\u001b[0;34m:\u001b[0m\u001b[0;34m\u001b[0m\u001b[0;34m\u001b[0m\u001b[0m\n",
      "\u001b[0;32m~/anaconda3/lib/python3.7/site-packages/pyro/infer/predictive.py\u001b[0m in \u001b[0;36m_predictive\u001b[0;34m(model, posterior_samples, num_samples, return_sites, return_trace, parallel, model_args, model_kwargs)\u001b[0m\n\u001b[1;32m     45\u001b[0m def _predictive(model, posterior_samples, num_samples, return_sites=None,\n\u001b[1;32m     46\u001b[0m                 return_trace=False, parallel=False, model_args=(), model_kwargs={}):\n\u001b[0;32m---> 47\u001b[0;31m     \u001b[0mmax_plate_nesting\u001b[0m \u001b[0;34m=\u001b[0m \u001b[0m_guess_max_plate_nesting\u001b[0m\u001b[0;34m(\u001b[0m\u001b[0mmodel\u001b[0m\u001b[0;34m,\u001b[0m \u001b[0mmodel_args\u001b[0m\u001b[0;34m,\u001b[0m \u001b[0mmodel_kwargs\u001b[0m\u001b[0;34m)\u001b[0m\u001b[0;34m\u001b[0m\u001b[0;34m\u001b[0m\u001b[0m\n\u001b[0m\u001b[1;32m     48\u001b[0m     \u001b[0mmodel_trace\u001b[0m \u001b[0;34m=\u001b[0m \u001b[0mprune_subsample_sites\u001b[0m\u001b[0;34m(\u001b[0m\u001b[0mpoutine\u001b[0m\u001b[0;34m.\u001b[0m\u001b[0mtrace\u001b[0m\u001b[0;34m(\u001b[0m\u001b[0mmodel\u001b[0m\u001b[0;34m)\u001b[0m\u001b[0;34m.\u001b[0m\u001b[0mget_trace\u001b[0m\u001b[0;34m(\u001b[0m\u001b[0;34m*\u001b[0m\u001b[0mmodel_args\u001b[0m\u001b[0;34m,\u001b[0m \u001b[0;34m**\u001b[0m\u001b[0mmodel_kwargs\u001b[0m\u001b[0;34m)\u001b[0m\u001b[0;34m)\u001b[0m\u001b[0;34m\u001b[0m\u001b[0;34m\u001b[0m\u001b[0m\n\u001b[1;32m     49\u001b[0m     \u001b[0mreshaped_samples\u001b[0m \u001b[0;34m=\u001b[0m \u001b[0;34m{\u001b[0m\u001b[0;34m}\u001b[0m\u001b[0;34m\u001b[0m\u001b[0;34m\u001b[0m\u001b[0m\n",
      "\u001b[0;32m~/anaconda3/lib/python3.7/site-packages/pyro/infer/predictive.py\u001b[0m in \u001b[0;36m_guess_max_plate_nesting\u001b[0;34m(model, args, kwargs)\u001b[0m\n\u001b[1;32m     16\u001b[0m     \"\"\"\n\u001b[1;32m     17\u001b[0m     \u001b[0;32mwith\u001b[0m \u001b[0mpoutine\u001b[0m\u001b[0;34m.\u001b[0m\u001b[0mblock\u001b[0m\u001b[0;34m(\u001b[0m\u001b[0;34m)\u001b[0m\u001b[0;34m:\u001b[0m\u001b[0;34m\u001b[0m\u001b[0;34m\u001b[0m\u001b[0m\n\u001b[0;32m---> 18\u001b[0;31m         \u001b[0mmodel_trace\u001b[0m \u001b[0;34m=\u001b[0m \u001b[0mpoutine\u001b[0m\u001b[0;34m.\u001b[0m\u001b[0mtrace\u001b[0m\u001b[0;34m(\u001b[0m\u001b[0mmodel\u001b[0m\u001b[0;34m)\u001b[0m\u001b[0;34m.\u001b[0m\u001b[0mget_trace\u001b[0m\u001b[0;34m(\u001b[0m\u001b[0;34m*\u001b[0m\u001b[0margs\u001b[0m\u001b[0;34m,\u001b[0m \u001b[0;34m**\u001b[0m\u001b[0mkwargs\u001b[0m\u001b[0;34m)\u001b[0m\u001b[0;34m\u001b[0m\u001b[0;34m\u001b[0m\u001b[0m\n\u001b[0m\u001b[1;32m     19\u001b[0m     sites = [site for site in model_trace.nodes.values()\n\u001b[1;32m     20\u001b[0m              if site[\"type\"] == \"sample\"]\n",
      "\u001b[0;32m~/anaconda3/lib/python3.7/site-packages/pyro/poutine/trace_messenger.py\u001b[0m in \u001b[0;36mget_trace\u001b[0;34m(self, *args, **kwargs)\u001b[0m\n\u001b[1;32m    161\u001b[0m         \u001b[0mCalls\u001b[0m \u001b[0mthis\u001b[0m \u001b[0mpoutine\u001b[0m \u001b[0;32mand\u001b[0m \u001b[0mreturns\u001b[0m \u001b[0mits\u001b[0m \u001b[0mtrace\u001b[0m \u001b[0minstead\u001b[0m \u001b[0mof\u001b[0m \u001b[0mthe\u001b[0m \u001b[0mfunction\u001b[0m\u001b[0;31m'\u001b[0m\u001b[0ms\u001b[0m \u001b[0;32mreturn\u001b[0m \u001b[0mvalue\u001b[0m\u001b[0;34m.\u001b[0m\u001b[0;34m\u001b[0m\u001b[0;34m\u001b[0m\u001b[0m\n\u001b[1;32m    162\u001b[0m         \"\"\"\n\u001b[0;32m--> 163\u001b[0;31m         \u001b[0mself\u001b[0m\u001b[0;34m(\u001b[0m\u001b[0;34m*\u001b[0m\u001b[0margs\u001b[0m\u001b[0;34m,\u001b[0m \u001b[0;34m**\u001b[0m\u001b[0mkwargs\u001b[0m\u001b[0;34m)\u001b[0m\u001b[0;34m\u001b[0m\u001b[0;34m\u001b[0m\u001b[0m\n\u001b[0m\u001b[1;32m    164\u001b[0m         \u001b[0;32mreturn\u001b[0m \u001b[0mself\u001b[0m\u001b[0;34m.\u001b[0m\u001b[0mmsngr\u001b[0m\u001b[0;34m.\u001b[0m\u001b[0mget_trace\u001b[0m\u001b[0;34m(\u001b[0m\u001b[0;34m)\u001b[0m\u001b[0;34m\u001b[0m\u001b[0;34m\u001b[0m\u001b[0m\n",
      "\u001b[0;32m~/anaconda3/lib/python3.7/site-packages/pyro/poutine/trace_messenger.py\u001b[0m in \u001b[0;36m__call__\u001b[0;34m(self, *args, **kwargs)\u001b[0m\n\u001b[1;32m    141\u001b[0m                                       args=args, kwargs=kwargs)\n\u001b[1;32m    142\u001b[0m             \u001b[0;32mtry\u001b[0m\u001b[0;34m:\u001b[0m\u001b[0;34m\u001b[0m\u001b[0;34m\u001b[0m\u001b[0m\n\u001b[0;32m--> 143\u001b[0;31m                 \u001b[0mret\u001b[0m \u001b[0;34m=\u001b[0m \u001b[0mself\u001b[0m\u001b[0;34m.\u001b[0m\u001b[0mfn\u001b[0m\u001b[0;34m(\u001b[0m\u001b[0;34m*\u001b[0m\u001b[0margs\u001b[0m\u001b[0;34m,\u001b[0m \u001b[0;34m**\u001b[0m\u001b[0mkwargs\u001b[0m\u001b[0;34m)\u001b[0m\u001b[0;34m\u001b[0m\u001b[0;34m\u001b[0m\u001b[0m\n\u001b[0m\u001b[1;32m    144\u001b[0m             \u001b[0;32mexcept\u001b[0m \u001b[0;34m(\u001b[0m\u001b[0mValueError\u001b[0m\u001b[0;34m,\u001b[0m \u001b[0mRuntimeError\u001b[0m\u001b[0;34m)\u001b[0m\u001b[0;34m:\u001b[0m\u001b[0;34m\u001b[0m\u001b[0;34m\u001b[0m\u001b[0m\n\u001b[1;32m    145\u001b[0m                 \u001b[0mexc_type\u001b[0m\u001b[0;34m,\u001b[0m \u001b[0mexc_value\u001b[0m\u001b[0;34m,\u001b[0m \u001b[0mtraceback\u001b[0m \u001b[0;34m=\u001b[0m \u001b[0msys\u001b[0m\u001b[0;34m.\u001b[0m\u001b[0mexc_info\u001b[0m\u001b[0;34m(\u001b[0m\u001b[0;34m)\u001b[0m\u001b[0;34m\u001b[0m\u001b[0;34m\u001b[0m\u001b[0m\n",
      "\u001b[0;31mTypeError\u001b[0m: 'Tensor' object is not callable"
     ]
    }
   ],
   "source": [
    "\n",
    "H_0 = 2  # 入力次元\n",
    "H_1 = 4  # 中間層のユニット数\n",
    "D = 1  # 出力次元\n",
    "# 訓練データセット\n",
    "data = torch.tensor([[-4.5, -0.22],\n",
    "                     [-4.4, -0.10],\n",
    "                     [-4.0, 0.00],\n",
    "                     [-2.9, -0.11],\n",
    "                     [-2.7, -0.33],\n",
    "                     [-1.5, -0.20],\n",
    "                     [-1.3, -0.08],\n",
    "                     [-0.8, -0.21],\n",
    "                     [0.1, -0.34],\n",
    "                     [1.5, 0.10],\n",
    "                     [2.0, 0.11],\n",
    "                     [2.1, 0.14],\n",
    "                     [2.6, 0.21],\n",
    "                     [3.5, 0.23],\n",
    "                     [3.6, 0.38]])\n",
    "x_data = data[:, 0].reshape(-1, 1)\n",
    "x_data = torch.cat([x_data, torch.ones_like(x_data)], dim=1)  # biasごと入力に含ませる\n",
    "y_data = data[:, 1]\n",
    "#print(x_data.size())#[15,2]\n",
    "#print(y_data.size())#[15]\n",
    "# ハイパーパラメータ\n",
    "w_sigma = torch.tensor(0.75)\n",
    "y_sigma = torch.tensor(0.09)\n",
    "# モデル\n",
    "bnn = BNN(H_0, H_1, D, w_sigma, y_sigma)\n",
    "# 推論\n",
    "bnn.VI(x_data, y_data)\n",
    "# 予測\n",
    "x = torch.linspace(-6.0, 6.0, 100).reshape(-1, 1)\n",
    "x_new = torch.cat([x, torch.ones_like(x)], dim=1)  # 予測入力点\n",
    "print(x_new.size())\n",
    "mu_samples, y_samples = bnn.predict(x_new)\n",
    "\n",
    "# 結果の図示\n",
    "fig, ax = plt.subplots(nrows=1, ncols=2, figsize=(12, 6))\n",
    "for sample in mu_samples:\n",
    "    ax[0].plot(x.flatten().numpy(), sample.detach().numpy(), alpha=0.05, color='g')\n",
    "ax[0].scatter(x_data[:, 0].flatten().numpy(), y_data.numpy(), color=\"black\")\n",
    "ax[0].set(xlabel=\"$x$\", ylabel=\"$y$\", xlim=(-6.0, 6.0), ylim=(-0.6, 0.6))\n",
    "\n",
    "for sample in y_samples:\n",
    "    ax[1].plot(x.flatten().numpy(), sample.detach().numpy(), alpha=0.005, color='g')\n",
    "ax[1].scatter(x_data[:, 0].flatten().numpy(), y_data.numpy(), color=\"black\")\n",
    "ax[1].set(xlabel=\"$x$\", ylabel=\"$y$\", xlim=(-6.0, 6.0), ylim=(-0.6, 0.6))\n",
    "plt.show()\n",
    "\n",
    "\n"
   ]
  },
  {
   "cell_type": "code",
   "execution_count": null,
   "metadata": {},
   "outputs": [],
   "source": []
  },
  {
   "cell_type": "code",
   "execution_count": null,
   "metadata": {},
   "outputs": [],
   "source": []
  },
  {
   "cell_type": "code",
   "execution_count": null,
   "metadata": {},
   "outputs": [],
   "source": []
  },
  {
   "cell_type": "code",
   "execution_count": null,
   "metadata": {},
   "outputs": [],
   "source": []
  }
 ],
 "metadata": {
  "kernelspec": {
   "display_name": "Python 3",
   "language": "python",
   "name": "python3"
  },
  "language_info": {
   "codemirror_mode": {
    "name": "ipython",
    "version": 3
   },
   "file_extension": ".py",
   "mimetype": "text/x-python",
   "name": "python",
   "nbconvert_exporter": "python",
   "pygments_lexer": "ipython3",
   "version": "3.7.3"
  }
 },
 "nbformat": 4,
 "nbformat_minor": 2
}
